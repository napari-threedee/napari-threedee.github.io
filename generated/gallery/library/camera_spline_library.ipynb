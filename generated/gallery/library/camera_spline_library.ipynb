{
  "cells": [
    {
      "cell_type": "code",
      "execution_count": null,
      "metadata": {
        "collapsed": false
      },
      "outputs": [],
      "source": [
        "%matplotlib inline"
      ]
    },
    {
      "cell_type": "markdown",
      "metadata": {},
      "source": [
        "\nCamera spline (library)\n===============================\n\nAn example controlling the camera spline,\nusing napari-threedee as a library.\n"
      ]
    },
    {
      "cell_type": "code",
      "execution_count": null,
      "metadata": {
        "collapsed": false
      },
      "outputs": [],
      "source": [
        "import napari\nimport skimage\n\nfrom napari_threedee.visualization._qt.qt_camera_spline import QtCameraSpline\n\nviewer = napari.Viewer(ndisplay=3)\nblobs = skimage.data.binary_blobs(\n    length=64,\n    volume_fraction=0.1,\n    n_dim=3\n).astype(float)\n\nplane_parameters_z = {\n    'position': (32, 32, 32),\n    'normal': (1, 0, 0),\n    'thickness': 10,\n}\n\nviewer.add_image(\n    blobs,\n    name='orange plane',\n    rendering='average',\n    colormap='bop orange',\n    depiction='plane',\n    plane=plane_parameters_z\n)\n\ncamera_spline = QtCameraSpline(viewer=viewer)\nviewer.window.add_dock_widget(camera_spline)\n\nnapari.run()"
      ]
    }
  ],
  "metadata": {
    "kernelspec": {
      "display_name": "Python 3",
      "language": "python",
      "name": "python3"
    },
    "language_info": {
      "codemirror_mode": {
        "name": "ipython",
        "version": 3
      },
      "file_extension": ".py",
      "mimetype": "text/x-python",
      "name": "python",
      "nbconvert_exporter": "python",
      "pygments_lexer": "ipython3",
      "version": "3.8.17"
    }
  },
  "nbformat": 4,
  "nbformat_minor": 0
}