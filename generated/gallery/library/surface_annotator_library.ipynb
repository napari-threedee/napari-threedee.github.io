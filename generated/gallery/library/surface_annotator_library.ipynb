{
  "cells": [
    {
      "cell_type": "code",
      "execution_count": null,
      "metadata": {
        "collapsed": false
      },
      "outputs": [],
      "source": [
        "%matplotlib inline"
      ]
    },
    {
      "cell_type": "markdown",
      "metadata": {},
      "source": [
        "\nSurface annotator (library)\n===================================\n\nAn example controlling the surface annotator,\nusing napari-threedee as a library.\n"
      ]
    },
    {
      "cell_type": "code",
      "execution_count": null,
      "metadata": {
        "collapsed": false
      },
      "outputs": [],
      "source": [
        "import napari\nfrom skimage import data\n\nimport napari_threedee as n3d\n\n# create napari viewer\nviewer = napari.Viewer(ndisplay=3)\n\n# generate 3d image data\nblobs = data.binary_blobs(length=64, volume_fraction=0.1, n_dim=3).astype(float)\n\n# add image layer to viewer (rendering as plane)\nimage_layer = viewer.add_image(\n    blobs,\n    name='orange plane',\n    rendering='average',\n    colormap='bop orange',\n    blending='translucent',\n    opacity=0.5,\n    depiction='plane',\n    plane={\n        'position': (32, 32, 32),\n        'normal': (1, 0, 0),\n        'thickness': 10,\n    })\n\n# create annotator\nannotator = n3d.annotators.SurfaceAnnotator(\n    viewer=viewer, image_layer=image_layer, enabled=True\n)\n\n# run napari\nviewer.layers.selection = [image_layer]\nviewer.axes.visible = True\nviewer.axes.labels = False\nviewer.camera.angles = (-15, 25, -30)\nviewer.camera.zoom *= 0.5\nnapari.run()"
      ]
    }
  ],
  "metadata": {
    "kernelspec": {
      "display_name": "Python 3",
      "language": "python",
      "name": "python3"
    },
    "language_info": {
      "codemirror_mode": {
        "name": "ipython",
        "version": 3
      },
      "file_extension": ".py",
      "mimetype": "text/x-python",
      "name": "python",
      "nbconvert_exporter": "python",
      "pygments_lexer": "ipython3",
      "version": "3.8.17"
    }
  },
  "nbformat": 4,
  "nbformat_minor": 0
}