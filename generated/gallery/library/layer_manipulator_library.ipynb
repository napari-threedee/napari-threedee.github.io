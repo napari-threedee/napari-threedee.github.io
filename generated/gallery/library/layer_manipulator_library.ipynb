{
  "cells": [
    {
      "cell_type": "code",
      "execution_count": null,
      "metadata": {
        "collapsed": false
      },
      "outputs": [],
      "source": [
        "%matplotlib inline"
      ]
    },
    {
      "cell_type": "markdown",
      "metadata": {},
      "source": [
        "\nLayer manipulator example (library)\n===================================\n\nAn example controlling the layer manipulator,\nusing napari-threedee as a library.\n"
      ]
    },
    {
      "cell_type": "code",
      "execution_count": null,
      "metadata": {
        "collapsed": false
      },
      "outputs": [],
      "source": [
        "import napari\nimport numpy as np\n\nfrom napari_threedee.manipulators._qt import QtLayerManipulatorWidget\n\ndata = np.random.random((100, 100, 100))\n\nviewer = napari.view_image(data)\nimage_layer = viewer.layers[0]\n\nviewer.dims.ndisplay = 3\n\nwidget = QtLayerManipulatorWidget(viewer)\nviewer.window.add_dock_widget(widget)\n\nnapari.run()"
      ]
    }
  ],
  "metadata": {
    "kernelspec": {
      "display_name": "Python 3",
      "language": "python",
      "name": "python3"
    },
    "language_info": {
      "codemirror_mode": {
        "name": "ipython",
        "version": 3
      },
      "file_extension": ".py",
      "mimetype": "text/x-python",
      "name": "python",
      "nbconvert_exporter": "python",
      "pygments_lexer": "ipython3",
      "version": "3.8.16"
    }
  },
  "nbformat": 4,
  "nbformat_minor": 0
}