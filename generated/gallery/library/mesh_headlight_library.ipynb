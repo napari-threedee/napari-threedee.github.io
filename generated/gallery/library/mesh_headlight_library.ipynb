{
  "cells": [
    {
      "cell_type": "code",
      "execution_count": null,
      "metadata": {
        "collapsed": false
      },
      "outputs": [],
      "source": [
        "%matplotlib inline"
      ]
    },
    {
      "cell_type": "markdown",
      "metadata": {},
      "source": [
        "\nMesh headlight (library)\n================================\n\nAn example controlling the mesh headlight,\nusing napari-threedee as a library.\n"
      ]
    },
    {
      "cell_type": "code",
      "execution_count": null,
      "metadata": {
        "collapsed": false
      },
      "outputs": [],
      "source": [
        "import napari\nimport numpy as np\nfrom vispy.io import load_data_file, read_mesh\n\nfrom napari_threedee.visualization._qt.qt_lighting_control import QtLightingControlWidget\n\n\n# Fetch datasets - this will download dataset if datasets are not found\nvertices, faces, _, _ = read_mesh(load_data_file('orig/triceratops.obj.gz'))\n\n# put the mesh right side up, scale it up (napari#3477) and fix faces handedness\nvertices *= -100\nfaces = faces[:, ::-1]\nvertex_values = np.ones((len(vertices),))\n\n# create an empty viewer\nviewer = napari.Viewer(ndisplay=3)\n\n# add the mesh\nviewer.add_surface((vertices, faces, vertex_values), name='triceratops')\n\nlighting_control_widget = QtLightingControlWidget(viewer=viewer)\nviewer.window.add_dock_widget(widget=lighting_control_widget)\n\nnapari.run()"
      ]
    }
  ],
  "metadata": {
    "kernelspec": {
      "display_name": "Python 3",
      "language": "python",
      "name": "python3"
    },
    "language_info": {
      "codemirror_mode": {
        "name": "ipython",
        "version": 3
      },
      "file_extension": ".py",
      "mimetype": "text/x-python",
      "name": "python",
      "nbconvert_exporter": "python",
      "pygments_lexer": "ipython3",
      "version": "3.8.17"
    }
  },
  "nbformat": 4,
  "nbformat_minor": 0
}