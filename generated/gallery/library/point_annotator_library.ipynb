{
  "cells": [
    {
      "cell_type": "code",
      "execution_count": null,
      "metadata": {
        "collapsed": false
      },
      "outputs": [],
      "source": [
        "%matplotlib inline"
      ]
    },
    {
      "cell_type": "markdown",
      "metadata": {},
      "source": [
        "\nPoint annotator example (library)\n=================================\n\nAn example controlling the point annotator,\nusing napari-threedee as a library.\n"
      ]
    },
    {
      "cell_type": "code",
      "execution_count": null,
      "metadata": {
        "collapsed": false
      },
      "outputs": [],
      "source": [
        "from napari_threedee.annotators import PointAnnotator\n\nimport napari\nfrom skimage import data\n\nviewer = napari.Viewer(ndisplay=3)\nblobs = data.binary_blobs(length=64, volume_fraction=0.1, n_dim=3).astype(float)\n\n# add a volume and render as plane\nplane_parameters = {\n    'position': (32, 32, 32),\n    'normal': (1, 0, 0),\n    'thickness': 10,\n}\n\nplane_layer = viewer.add_image(\n    blobs,\n    rendering='average',\n    name='plane',\n    colormap='bop orange',\n    blending='translucent',\n    opacity=0.5,\n    depiction='plane',\n    plane=plane_parameters,\n)\n\npoints_layer = viewer.add_points(\n    data=[],\n    size=5,\n    face_color='cornflowerblue',\n    ndim=3\n)\n\nannotator = PointAnnotator(\n    viewer=viewer,\n    image_layer=plane_layer,\n    points_layer=points_layer,\n    enabled=True,\n)\nviewer.layers.selection = [plane_layer]\nviewer.camera.set_view_direction([-1, -1, 1])\nnapari.run()"
      ]
    }
  ],
  "metadata": {
    "kernelspec": {
      "display_name": "Python 3",
      "language": "python",
      "name": "python3"
    },
    "language_info": {
      "codemirror_mode": {
        "name": "ipython",
        "version": 3
      },
      "file_extension": ".py",
      "mimetype": "text/x-python",
      "name": "python",
      "nbconvert_exporter": "python",
      "pygments_lexer": "ipython3",
      "version": "3.8.16"
    }
  },
  "nbformat": 4,
  "nbformat_minor": 0
}