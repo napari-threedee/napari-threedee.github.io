{
  "cells": [
    {
      "cell_type": "code",
      "execution_count": null,
      "metadata": {
        "collapsed": false
      },
      "outputs": [],
      "source": [
        "%matplotlib inline"
      ]
    },
    {
      "cell_type": "markdown",
      "metadata": {},
      "source": [
        "\nSphere annotator (library)\n==================================\n\nAn example controlling the sphere annotator,\nusing napari-threedee as a library.\n"
      ]
    },
    {
      "cell_type": "code",
      "execution_count": null,
      "metadata": {
        "collapsed": false
      },
      "outputs": [],
      "source": [
        "import napari\nimport numpy as np\nfrom skimage import data\n\nfrom napari_threedee.data_models import N3dSpheres\nfrom napari_threedee.annotators.spheres import SphereAnnotator\n\nCREATE_LAYER_FROM_EXISTING_DATA = True\n\n# create napari viewer\nviewer = napari.Viewer(ndisplay=3)\n\n# generate image data\nblobs = data.binary_blobs(length=64, volume_fraction=0.1, n_dim=3).astype(float)\n\n# add image layer to viewer (rendering as a plane)\nimage_layer = viewer.add_image(\n    blobs,\n    rendering='average',\n    name='plane',\n    colormap='bop orange',\n    blending='translucent',\n    opacity=0.5,\n    depiction='plane',\n    plane={\n        'position': (32, 32, 32),\n        'normal': (1, 0, 0),\n        'thickness': 10,\n    },\n)\n\n# optionally create an n3d compatible points layer from existing data\nif CREATE_LAYER_FROM_EXISTING_DATA is True:\n    centers = np.random.uniform(0, 64, size=(10, 3))\n    radii = np.random.uniform(1, 10, size=(10,))\n    points_layer = N3dSpheres(centers=centers, radii=radii).as_layer()\nelse:\n    points_layer = None\n\n# create the annotator\nannotator = SphereAnnotator(\n    viewer=viewer,\n    image_layer=image_layer,\n    points_layer=points_layer,\n    enabled=True\n)\n\n# run napari\nviewer.axes.visible = True\nviewer.axes.labels = False\nviewer.camera.angles = (-15, 25, -30)\nviewer.camera.zoom *= 0.5\nnapari.run()"
      ]
    }
  ],
  "metadata": {
    "kernelspec": {
      "display_name": "Python 3",
      "language": "python",
      "name": "python3"
    },
    "language_info": {
      "codemirror_mode": {
        "name": "ipython",
        "version": 3
      },
      "file_extension": ".py",
      "mimetype": "text/x-python",
      "name": "python",
      "nbconvert_exporter": "python",
      "pygments_lexer": "ipython3",
      "version": "3.8.16"
    }
  },
  "nbformat": 4,
  "nbformat_minor": 0
}