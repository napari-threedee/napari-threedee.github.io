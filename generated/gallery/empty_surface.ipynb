{
  "cells": [
    {
      "cell_type": "code",
      "execution_count": null,
      "metadata": {
        "collapsed": false
      },
      "outputs": [],
      "source": [
        "%matplotlib inline"
      ]
    },
    {
      "cell_type": "markdown",
      "metadata": {},
      "source": [
        "\nEmpty surface\n=============\n\nThis example generates sphere mesh data and displays it with napari.\n"
      ]
    },
    {
      "cell_type": "code",
      "execution_count": null,
      "metadata": {
        "collapsed": false
      },
      "outputs": [],
      "source": [
        "import napari\nfrom vispy.geometry import create_sphere\n\nsphere_mesh_data = create_sphere(radius=10)\n\nviewer = napari.Viewer(ndisplay=3)\nnapari_mesh_data = (sphere_mesh_data.get_vertices(), sphere_mesh_data.get_faces())\nprint(sphere_mesh_data.get_vertices().mean(axis=0))\nviewer.add_surface(napari_mesh_data)\nnapari.run()"
      ]
    }
  ],
  "metadata": {
    "kernelspec": {
      "display_name": "Python 3",
      "language": "python",
      "name": "python3"
    },
    "language_info": {
      "codemirror_mode": {
        "name": "ipython",
        "version": 3
      },
      "file_extension": ".py",
      "mimetype": "text/x-python",
      "name": "python",
      "nbconvert_exporter": "python",
      "pygments_lexer": "ipython3",
      "version": "3.8.16"
    }
  },
  "nbformat": 4,
  "nbformat_minor": 0
}