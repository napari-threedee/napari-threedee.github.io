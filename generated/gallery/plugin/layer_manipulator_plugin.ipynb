{
  "cells": [
    {
      "cell_type": "code",
      "execution_count": null,
      "metadata": {
        "collapsed": false
      },
      "outputs": [],
      "source": [
        "%matplotlib inline"
      ]
    },
    {
      "cell_type": "markdown",
      "metadata": {},
      "source": [
        "\nLayer manipulator example (plugin)\n==================================\n\nAn example controlling the layer manipulator,\nusing napari-threedee as a napari plugin.\n"
      ]
    },
    {
      "cell_type": "code",
      "execution_count": null,
      "metadata": {
        "collapsed": false
      },
      "outputs": [],
      "source": [
        "import napari\n\ntry:\n    from skimage.data import binary_blobs\nexcept ImportError:\n    raise ImportError(\"This example requires scikit-image. pip install scikit-image\")\n\n\nimage = binary_blobs(\n    50,\n    n_dim=3,\n    blob_size_fraction=0.3,\n    volume_fraction=0.1,\n)\n\nviewer = napari.view_image(\n    image,\n    colormap=\"magenta\",\n    opacity=0.8,\n    blending=\"additive\",\n    rendering=\"iso\",\n    iso_threshold=0,\n    name=\"image_0\",\n)\nimage_layer_0 = viewer.layers[0]\n\n# add an addition layer that is shifted\nimage_layer_1 = viewer.add_image(\n    image.copy(),\n    colormap=\"green\",\n    opacity=0.8,\n    blending=\"additive\",\n    rendering=\"iso\",\n    iso_threshold=0,\n    name=\"image_1\",\n    translate=(20, 20, 20),\n)\n\nviewer.dims.ndisplay = 3\n\nviewer.window.add_plugin_dock_widget(\n    plugin_name=\"napari-threedee\", widget_name=\"layer manipulator\"\n)\n\nnapari.run()"
      ]
    }
  ],
  "metadata": {
    "kernelspec": {
      "display_name": "Python 3",
      "language": "python",
      "name": "python3"
    },
    "language_info": {
      "codemirror_mode": {
        "name": "ipython",
        "version": 3
      },
      "file_extension": ".py",
      "mimetype": "text/x-python",
      "name": "python",
      "nbconvert_exporter": "python",
      "pygments_lexer": "ipython3",
      "version": "3.8.16"
    }
  },
  "nbformat": 4,
  "nbformat_minor": 0
}