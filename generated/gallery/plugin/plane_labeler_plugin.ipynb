{
  "cells": [
    {
      "cell_type": "code",
      "execution_count": null,
      "metadata": {
        "collapsed": false
      },
      "outputs": [],
      "source": [
        "%matplotlib inline"
      ]
    },
    {
      "cell_type": "markdown",
      "metadata": {},
      "source": [
        "\nDrawing labels on a plane (plugin)\n==============================\n\nAn example drawing labels on a rendering plane using\nthe label annotator plugin.\n"
      ]
    },
    {
      "cell_type": "code",
      "execution_count": null,
      "metadata": {
        "collapsed": false
      },
      "outputs": [],
      "source": [
        "import napari\nimport numpy as np\nfrom skimage import data\n\n\nviewer = napari.Viewer(ndisplay=3)\n\n# add a volume\nblobs = data.binary_blobs(\n    length=64, volume_fraction=0.1, n_dim=3\n).astype(np.float32)\n\n# add the image layer in plane depiction mode\nplane_layer = viewer.add_image(\n    blobs,\n    rendering='mip',\n    colormap=\"cyan\",\n    name='plane',\n    depiction='plane',\n    opacity=0.5,\n    plane={'position': (32, 32, 32), 'normal': (1, 1, 1), 'thickness': 10}\n)\n\n# add a labels layer\nlabels_layer = viewer.add_labels(\n    np.zeros_like(blobs).astype(int)\n)\nlabels_layer.n_edit_dimensions = 3\n\nviewer.window.add_plugin_dock_widget(\n    \"napari-threedee\", widget_name=\"label annotator\"\n)\n\nnapari.run()"
      ]
    }
  ],
  "metadata": {
    "kernelspec": {
      "display_name": "Python 3",
      "language": "python",
      "name": "python3"
    },
    "language_info": {
      "codemirror_mode": {
        "name": "ipython",
        "version": 3
      },
      "file_extension": ".py",
      "mimetype": "text/x-python",
      "name": "python",
      "nbconvert_exporter": "python",
      "pygments_lexer": "ipython3",
      "version": "3.8.17"
    }
  },
  "nbformat": 4,
  "nbformat_minor": 0
}