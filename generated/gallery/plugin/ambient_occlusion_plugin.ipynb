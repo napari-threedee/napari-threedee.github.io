{
  "cells": [
    {
      "cell_type": "code",
      "execution_count": null,
      "metadata": {
        "collapsed": false
      },
      "outputs": [],
      "source": [
        "%matplotlib inline"
      ]
    },
    {
      "cell_type": "markdown",
      "metadata": {},
      "source": [
        "\nAmbient occlusion (plugin)\n===============================\n\nAn example adding ambient occlusion to a mesh,\nusing napari-threedee as a napari plugin.\n"
      ]
    },
    {
      "cell_type": "code",
      "execution_count": null,
      "metadata": {
        "collapsed": false
      },
      "outputs": [],
      "source": [
        "import napari\nimport numpy as np\nfrom vispy.io import load_data_file, read_mesh\n\n\n# Fetch datasets - this will download dataset if datasets are not found\nvertices, faces, _, _ = read_mesh(load_data_file('orig/triceratops.obj.gz'))\n\n# put the mesh right side up, scale it up (napari#3477) and fix faces handedness\nvertices *= -100\nfaces = faces[:, ::-1]\nvertex_values = np.ones((len(vertices)))\n\n# create an empty viewer\nviewer = napari.Viewer(ndisplay=3)\n\n# add the mesh\nviewer.add_surface((vertices, faces, vertex_values), name='triceratops', shading=\"smooth\")\n\n# open the plugin\nviewer.window.add_plugin_dock_widget(\n    plugin_name=\"napari-threedee\", widget_name=\"ambient occlusion controls\"\n)\n\nnapari.run()"
      ]
    }
  ],
  "metadata": {
    "kernelspec": {
      "display_name": "Python 3",
      "language": "python",
      "name": "python3"
    },
    "language_info": {
      "codemirror_mode": {
        "name": "ipython",
        "version": 3
      },
      "file_extension": ".py",
      "mimetype": "text/x-python",
      "name": "python",
      "nbconvert_exporter": "python",
      "pygments_lexer": "ipython3",
      "version": "3.8.16"
    }
  },
  "nbformat": 4,
  "nbformat_minor": 0
}