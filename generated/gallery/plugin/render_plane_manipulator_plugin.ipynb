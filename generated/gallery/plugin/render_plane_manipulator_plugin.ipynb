{
  "cells": [
    {
      "cell_type": "code",
      "execution_count": null,
      "metadata": {
        "collapsed": false
      },
      "outputs": [],
      "source": [
        "%matplotlib inline"
      ]
    },
    {
      "cell_type": "markdown",
      "metadata": {},
      "source": [
        "\nRender plane manipulator (plugin)\n=========================================\n\nAn example controlling the render plane manipulator,\nusing napari-threedee as a napari plugin.\n"
      ]
    },
    {
      "cell_type": "code",
      "execution_count": null,
      "metadata": {
        "collapsed": false
      },
      "outputs": [],
      "source": [
        "import napari\nfrom skimage import data\n\n\nviewer = napari.Viewer(ndisplay=3)\n\n# add a volume\nblobs = data.binary_blobs(\n    length=64, volume_fraction=0.1, n_dim=3\n).astype(float)\nvolume_layer = viewer.add_image(\n    blobs, rendering='mip', name='volume', blending='additive', opacity=0.25\n)\n\n# add the same volume and render as plane\n# plane should be in 'additive' blending mode or depth looks all wrong\nplane_parameters = {\n    'position': (32, 32, 32),\n    'normal': (1, 0, 0),\n    'thickness': 10,\n}\n\nplane_layer = viewer.add_image(\n    blobs,\n    rendering='average',\n    name='plane',\n    colormap='bop orange',\n    blending='additive',\n    opacity=0.5,\n    depiction=\"plane\",\n    plane=plane_parameters\n)\n\nviewer.window.add_plugin_dock_widget(\n    plugin_name=\"napari-threedee\", widget_name=\"render plane manipulator\"\n)\n\nnapari.run()"
      ]
    }
  ],
  "metadata": {
    "kernelspec": {
      "display_name": "Python 3",
      "language": "python",
      "name": "python3"
    },
    "language_info": {
      "codemirror_mode": {
        "name": "ipython",
        "version": 3
      },
      "file_extension": ".py",
      "mimetype": "text/x-python",
      "name": "python",
      "nbconvert_exporter": "python",
      "pygments_lexer": "ipython3",
      "version": "3.8.17"
    }
  },
  "nbformat": 4,
  "nbformat_minor": 0
}