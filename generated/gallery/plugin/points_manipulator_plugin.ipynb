{
  "cells": [
    {
      "cell_type": "code",
      "execution_count": null,
      "metadata": {
        "collapsed": false
      },
      "outputs": [],
      "source": [
        "%matplotlib inline"
      ]
    },
    {
      "cell_type": "markdown",
      "metadata": {},
      "source": [
        "\nPoints manipulator (plugin)\n===================================\n\nExample of using the points manipulator to re-position points,\nusing napari-threedee as a napari plugin.\n\nEnter the point selection mode and click on a point to activate the manipulator.\nClick and drag the arms of the manipulator to move the point.\nWhen a point is selected, hold space to rotate the view without losing the selection.\n"
      ]
    },
    {
      "cell_type": "code",
      "execution_count": null,
      "metadata": {
        "collapsed": false
      },
      "outputs": [],
      "source": [
        "import numpy as np\n\nimport napari\n\npoints_data = np.array(\n    [\n        [0, 0, 0],\n        [0, 200, 0],\n        [0, 0, 200]\n    ]\n)\n\nviewer = napari.Viewer(ndisplay=3)\npoints_layer = viewer.add_points(points_data, size=5)\n\nviewer.window.add_plugin_dock_widget(\n    plugin_name=\"napari-threedee\", widget_name=\"point manipulator\"\n)\n\nnapari.run()"
      ]
    }
  ],
  "metadata": {
    "kernelspec": {
      "display_name": "Python 3",
      "language": "python",
      "name": "python3"
    },
    "language_info": {
      "codemirror_mode": {
        "name": "ipython",
        "version": 3
      },
      "file_extension": ".py",
      "mimetype": "text/x-python",
      "name": "python",
      "nbconvert_exporter": "python",
      "pygments_lexer": "ipython3",
      "version": "3.8.17"
    }
  },
  "nbformat": 4,
  "nbformat_minor": 0
}