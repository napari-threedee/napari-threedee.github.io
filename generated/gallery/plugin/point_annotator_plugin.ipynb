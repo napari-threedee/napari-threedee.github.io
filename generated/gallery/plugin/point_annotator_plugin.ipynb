{
  "cells": [
    {
      "cell_type": "code",
      "execution_count": null,
      "metadata": {
        "collapsed": false
      },
      "outputs": [],
      "source": [
        "%matplotlib inline"
      ]
    },
    {
      "cell_type": "markdown",
      "metadata": {},
      "source": [
        "\nPlane point annotator (plugin)\n==============================\n\nAn example controlling the point annotator,\nusing napari-threedee as a napari plugin.\n"
      ]
    },
    {
      "cell_type": "code",
      "execution_count": null,
      "metadata": {
        "collapsed": false
      },
      "outputs": [],
      "source": [
        "import napari\nfrom skimage import data\n\n# create napari viewer\nviewer = napari.Viewer(ndisplay=3)\n\n# generate image data\nblobs = data.binary_blobs(length=64, volume_fraction=0.1, n_dim=4).astype(float)\n\n# add two image layers to viewer\nviewer.add_image(\n    blobs,\n    name='orange plane',\n    rendering='average',\n    colormap='bop orange',\n    blending='translucent',\n    opacity=0.5,\n    depiction='plane',\n    plane={\n    'position': (32, 32, 32),\n    'normal': (1, 0, 0),\n    'thickness': 10,\n})\n\nviewer.add_image(\n    blobs,\n    name='blue plane',\n    rendering='average',\n    colormap='bop blue',\n    blending='additive',\n    opacity=0.5,\n    depiction='plane',\n    plane={\n    'position': (32, 32, 32),\n    'normal': (0, 1, 0),\n    'thickness': 10,\n})\n\n# add plugin dock widget to viewer\nviewer.window.add_plugin_dock_widget(\n    plugin_name=\"napari-threedee\", widget_name=\"point annotator\"\n)\n\n# run napari\nviewer.layers.selection = [viewer.layers[0]]\nviewer.axes.visible = True\nviewer.camera.angles = (-15, 25, -30)\nviewer.camera.zoom *= 0.5\nnapari.run()"
      ]
    }
  ],
  "metadata": {
    "kernelspec": {
      "display_name": "Python 3",
      "language": "python",
      "name": "python3"
    },
    "language_info": {
      "codemirror_mode": {
        "name": "ipython",
        "version": 3
      },
      "file_extension": ".py",
      "mimetype": "text/x-python",
      "name": "python",
      "nbconvert_exporter": "python",
      "pygments_lexer": "ipython3",
      "version": "3.8.16"
    }
  },
  "nbformat": 4,
  "nbformat_minor": 0
}